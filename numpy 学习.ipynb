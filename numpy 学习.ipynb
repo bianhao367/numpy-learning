{
 "cells": [
  {
   "cell_type": "markdown",
   "id": "50551292-b81e-481a-a3fd-8494a57dfce2",
   "metadata": {},
   "source": [
    "# 一、 ndarray\n",
    "## 1.ndarray的特性\n",
    "### 多维性"
   ]
  },
  {
   "cell_type": "code",
   "execution_count": 1,
   "id": "a60ff935-700e-4c28-9092-0b0d366606d7",
   "metadata": {
    "ExecuteTime": {
     "end_time": "2025-10-05T14:09:47.399677Z",
     "start_time": "2025-10-05T14:09:47.397243Z"
    }
   },
   "outputs": [],
   "source": [
    "import numpy as np"
   ]
  },
  {
   "cell_type": "code",
   "execution_count": 2,
   "id": "29b5e33e-091d-4333-ba3c-aa69498549c3",
   "metadata": {
    "ExecuteTime": {
     "end_time": "2025-10-05T14:09:47.564277Z",
     "start_time": "2025-10-05T14:09:47.559789Z"
    }
   },
   "outputs": [
    {
     "name": "stdout",
     "output_type": "stream",
     "text": [
      "5\n",
      "arr的维度： 0\n"
     ]
    }
   ],
   "source": [
    "arr = np.array(5)  # 创建0维的数组 arr    注意列表和数组并不完全一样，只是相似\n",
    "print(arr)\n",
    "print(\"arr的维度：\",arr.ndim) # 数组的维度"
   ]
  },
  {
   "cell_type": "code",
   "execution_count": 3,
   "id": "1916778a-14dc-4ef7-a843-ff0c8ebe3d4b",
   "metadata": {
    "ExecuteTime": {
     "end_time": "2025-10-05T14:09:47.726800Z",
     "start_time": "2025-10-05T14:09:47.723217Z"
    }
   },
   "outputs": [
    {
     "name": "stdout",
     "output_type": "stream",
     "text": [
      "[1 2 3]\n",
      "arr的维度： 1\n"
     ]
    }
   ],
   "source": [
    "arr = np.array([1,2,3])  # 创建1维的数组 arr\n",
    "print(arr)\n",
    "print(\"arr的维度：\",arr.ndim) # 数组的维度"
   ]
  },
  {
   "cell_type": "code",
   "execution_count": 4,
   "id": "0d62b3a7-45ac-42dd-9a41-badeeddf6882",
   "metadata": {
    "ExecuteTime": {
     "end_time": "2025-10-05T14:09:47.887363Z",
     "start_time": "2025-10-05T14:09:47.884333Z"
    }
   },
   "outputs": [
    {
     "name": "stdout",
     "output_type": "stream",
     "text": [
      "[[1 2 3]\n",
      " [4 5 6]]\n",
      "arr的维度： 2\n"
     ]
    }
   ],
   "source": [
    "arr = np.array([[1,2,3],[4,5,6]])  # 创建2维的数组 arr\n",
    "print(arr)\n",
    "print(\"arr的维度：\",arr.ndim) # 数组的维度"
   ]
  },
  {
   "cell_type": "markdown",
   "id": "f7252a69-1106-456c-839e-77f7847ecad1",
   "metadata": {},
   "source": [
    "### 同质性"
   ]
  },
  {
   "cell_type": "code",
   "execution_count": 5,
   "id": "f7d53590-85d4-4a43-ad51-9339fe9fe098",
   "metadata": {
    "ExecuteTime": {
     "end_time": "2025-10-05T14:09:48.181669Z",
     "start_time": "2025-10-05T14:09:48.178670Z"
    }
   },
   "outputs": [
    {
     "name": "stdout",
     "output_type": "stream",
     "text": [
      "['1' 'hello']\n"
     ]
    }
   ],
   "source": [
    "arr = np.array([1,'hello'])  #不同的数据类型会被强制转换相同\n",
    "print(arr)"
   ]
  },
  {
   "cell_type": "markdown",
   "id": "a37138a7-f7b7-42b3-99b4-e4c71cd429e7",
   "metadata": {},
   "source": [
    "## 2.ndarray的属性"
   ]
  },
  {
   "cell_type": "code",
   "execution_count": 6,
   "id": "dcaaba23-8782-46a6-8015-3cb37e58dd07",
   "metadata": {
    "ExecuteTime": {
     "end_time": "2025-10-05T14:09:48.463130Z",
     "start_time": "2025-10-05T14:09:48.460224Z"
    }
   },
   "outputs": [
    {
     "name": "stdout",
     "output_type": "stream",
     "text": [
      "1\n",
      "数组的形状： ()\n",
      "arr的维度： 0\n",
      "元素的个数： 1\n",
      "元素的数据类型： int32\n",
      "元素的转置 1\n"
     ]
    }
   ],
   "source": [
    "arr = np.array(1)\n",
    "print(arr)\n",
    "print(\"数组的形状：\",arr.shape)\n",
    "print(\"arr的维度：\",arr.ndim)\n",
    "print(\"元素的个数：\",arr.size)\n",
    "print(\"元素的数据类型：\",arr.dtype)\n",
    "print(\"元素的转置\",arr.T)"
   ]
  },
  {
   "cell_type": "code",
   "execution_count": 7,
   "id": "8277e982-b22a-44cf-8e78-b77a00d175ba",
   "metadata": {
    "ExecuteTime": {
     "end_time": "2025-10-05T14:09:48.599239Z",
     "start_time": "2025-10-05T14:09:48.595676Z"
    }
   },
   "outputs": [
    {
     "name": "stdout",
     "output_type": "stream",
     "text": [
      "[1.  2.5 3. ]\n",
      "数组的形状： (3,)\n",
      "arr的维度： 1\n",
      "元素的个数： 3\n",
      "元素的数据类型： float64\n",
      "元素的转置 [1.  2.5 3. ]\n"
     ]
    }
   ],
   "source": [
    "arr = np.array([1,2.5,3])\n",
    "print(arr)\n",
    "print(\"数组的形状：\",arr.shape)\n",
    "print(\"arr的维度：\",arr.ndim)\n",
    "print(\"元素的个数：\",arr.size)\n",
    "print(\"元素的数据类型：\",arr.dtype)\n",
    "print(\"元素的转置\",arr.T)"
   ]
  },
  {
   "cell_type": "code",
   "execution_count": 8,
   "id": "e3435e25-de3f-4611-825d-8b7154cbf800",
   "metadata": {
    "ExecuteTime": {
     "end_time": "2025-10-05T14:09:48.743334Z",
     "start_time": "2025-10-05T14:09:48.739823Z"
    }
   },
   "outputs": [
    {
     "name": "stdout",
     "output_type": "stream",
     "text": [
      "[[1 2 3]\n",
      " [4 5 6]]\n",
      "数组的形状： (2, 3)\n",
      "arr的维度： 2\n",
      "元素的个数： 6\n",
      "元素的数据类型： int32\n",
      "元素的转置 [[1 4]\n",
      " [2 5]\n",
      " [3 6]]\n"
     ]
    }
   ],
   "source": [
    "arr = np.array([[1,2,3],[4,5,6]])\n",
    "print(arr)\n",
    "print(\"数组的形状：\",arr.shape)\n",
    "print(\"arr的维度：\",arr.ndim)\n",
    "print(\"元素的个数：\",arr.size)\n",
    "print(\"元素的数据类型：\",arr.dtype)\n",
    "print(\"元素的转置\",arr.T)"
   ]
  },
  {
   "cell_type": "markdown",
   "id": "0202122a-0acc-4bcd-9ff7-c43fdb307b3d",
   "metadata": {},
   "source": [
    "## 3.ndarray的创建"
   ]
  },
  {
   "cell_type": "code",
   "execution_count": 9,
   "id": "d2131233-f07f-4b52-98ab-0cebce3717db",
   "metadata": {
    "ExecuteTime": {
     "end_time": "2025-10-05T14:09:49.035276Z",
     "start_time": "2025-10-05T14:09:49.032166Z"
    }
   },
   "outputs": [
    {
     "name": "stdout",
     "output_type": "stream",
     "text": [
      "[1 2 3]\n"
     ]
    }
   ],
   "source": [
    "#基础的创建方法\n",
    "arr = np.array([1,2,3])\n",
    "print(arr)"
   ]
  },
  {
   "cell_type": "code",
   "execution_count": 10,
   "id": "977a6250-e2d0-4a8d-b2fe-68debb80d90b",
   "metadata": {
    "ExecuteTime": {
     "end_time": "2025-10-05T14:09:49.192733Z",
     "start_time": "2025-10-05T14:09:49.190146Z"
    }
   },
   "outputs": [
    {
     "name": "stdout",
     "output_type": "stream",
     "text": [
      "[1. 2. 3.]\n",
      "float64\n"
     ]
    }
   ],
   "source": [
    "#基础的创建方法,与上面划等号\n",
    "list1 = [1,2,3]\n",
    "arr = np.array(list1,dtype=np.float64) #可以强制转化元素类型\n",
    "print(arr)\n",
    "print(arr.dtype)"
   ]
  },
  {
   "cell_type": "code",
   "execution_count": 11,
   "id": "482d12c3-155d-4b8b-b3d8-3be1390a06a2",
   "metadata": {
    "ExecuteTime": {
     "end_time": "2025-10-05T14:09:49.362515Z",
     "start_time": "2025-10-05T14:09:49.359233Z"
    }
   },
   "outputs": [
    {
     "name": "stdout",
     "output_type": "stream",
     "text": [
      "[1. 2. 3.]\n"
     ]
    }
   ],
   "source": [
    "# copu\n",
    "arr1 = np.copy(arr) #内容一样，但是是两个数组\n",
    "print(arr1)"
   ]
  },
  {
   "cell_type": "code",
   "execution_count": 12,
   "id": "4e009a01-10e5-47e6-8e5a-fc55d6639321",
   "metadata": {
    "ExecuteTime": {
     "end_time": "2025-10-05T14:09:49.517041Z",
     "start_time": "2025-10-05T14:09:49.513417Z"
    }
   },
   "outputs": [
    {
     "name": "stdout",
     "output_type": "stream",
     "text": [
      "[[0. 0. 0.]\n",
      " [0. 0. 0.]]\n",
      "float64\n"
     ]
    }
   ],
   "source": [
    "# 预定义形状\n",
    "# 全0 全1 未初始化\n",
    "# 全0\n",
    "arr = np.zeros((2,3))\n",
    "print(arr)\n",
    "print(arr.dtype)"
   ]
  },
  {
   "cell_type": "code",
   "execution_count": 13,
   "id": "dd409068-4869-4b02-97b6-5d69d6589df4",
   "metadata": {
    "ExecuteTime": {
     "end_time": "2025-10-05T14:09:49.667209Z",
     "start_time": "2025-10-05T14:09:49.663811Z"
    }
   },
   "outputs": [
    {
     "name": "stdout",
     "output_type": "stream",
     "text": [
      "[[0 0 0]\n",
      " [0 0 0]]\n"
     ]
    }
   ],
   "source": [
    "arr = np.zeros((2,3),dtype = int)\n",
    "print(arr)"
   ]
  },
  {
   "cell_type": "code",
   "execution_count": 14,
   "id": "de628e80-84da-4677-9a52-1ee2fde1310a",
   "metadata": {
    "ExecuteTime": {
     "end_time": "2025-10-05T14:09:49.812804Z",
     "start_time": "2025-10-05T14:09:49.810239Z"
    }
   },
   "outputs": [
    {
     "name": "stdout",
     "output_type": "stream",
     "text": [
      "[[1. 1. 1.]\n",
      " [1. 1. 1.]]\n"
     ]
    }
   ],
   "source": [
    "# 全1\n",
    "arr = np.ones((2,3))\n",
    "print(arr)"
   ]
  },
  {
   "cell_type": "code",
   "execution_count": 15,
   "id": "0848cc85-99ff-4596-9fa5-cf751e408c42",
   "metadata": {
    "ExecuteTime": {
     "end_time": "2025-10-05T14:09:49.981970Z",
     "start_time": "2025-10-05T14:09:49.978514Z"
    }
   },
   "outputs": [
    {
     "name": "stdout",
     "output_type": "stream",
     "text": [
      "[[1.46012765e-311 2.47032823e-322 0.00000000e+000]\n",
      " [0.00000000e+000 0.00000000e+000 1.04082753e-047]\n",
      " [6.81639530e-091 3.53727220e-057 3.55152631e-062]\n",
      " [5.99058616e-066 3.99910963e+252 9.51926506e+169]]\n"
     ]
    }
   ],
   "source": [
    "# 未初始化，值不确定\n",
    "arr = np.empty((4,3))\n",
    "print(arr)"
   ]
  },
  {
   "cell_type": "code",
   "execution_count": 16,
   "id": "331a6790-11ce-4cd9-a72a-c52e2447b04a",
   "metadata": {
    "ExecuteTime": {
     "end_time": "2025-10-05T14:09:50.491342Z",
     "start_time": "2025-10-05T14:09:50.488278Z"
    }
   },
   "outputs": [
    {
     "name": "stdout",
     "output_type": "stream",
     "text": [
      "[[2025 2025 2025]\n",
      " [2025 2025 2025]]\n"
     ]
    }
   ],
   "source": [
    "# full\n",
    "arr = np.full((2,3),2025)\n",
    "print(arr)"
   ]
  },
  {
   "cell_type": "code",
   "execution_count": 17,
   "id": "3382e20c-affb-4bfb-98c3-b1b73a52d945",
   "metadata": {
    "ExecuteTime": {
     "end_time": "2025-10-05T14:09:50.548301Z",
     "start_time": "2025-10-05T14:09:50.545182Z"
    }
   },
   "outputs": [
    {
     "name": "stdout",
     "output_type": "stream",
     "text": [
      "[[0 0 0]\n",
      " [0 0 0]]\n"
     ]
    }
   ],
   "source": [
    "arr1 = np.zeros_like(arr) #会覆盖之前的2025\n",
    "print(arr1)"
   ]
  },
  {
   "cell_type": "code",
   "execution_count": 18,
   "id": "a71a42ab-3c89-4db3-bf25-d290e41095dc",
   "metadata": {
    "ExecuteTime": {
     "end_time": "2025-10-05T14:09:50.600185Z",
     "start_time": "2025-10-05T14:09:50.597185Z"
    }
   },
   "outputs": [
    {
     "name": "stdout",
     "output_type": "stream",
     "text": [
      "[1 2 3 4 5 6 7 8 9]\n"
     ]
    }
   ],
   "source": [
    "# 等差数列 2,4,6,8\n",
    "arr = np.arange(1,10,1) #start,end,step,[ , )\n",
    "print(arr)"
   ]
  },
  {
   "cell_type": "code",
   "execution_count": 19,
   "id": "395b7b2d-4ee3-46fc-acb9-7564409335fc",
   "metadata": {
    "ExecuteTime": {
     "end_time": "2025-10-05T14:09:50.661304Z",
     "start_time": "2025-10-05T14:09:50.658306Z"
    }
   },
   "outputs": [
    {
     "name": "stdout",
     "output_type": "stream",
     "text": [
      "[ 1.    3.25  5.5   7.75 10.  ]\n"
     ]
    }
   ],
   "source": [
    "# 等间隔数列\n",
    "arr = np.linspace(1,10,5) #start,end,几份\n",
    "print(arr)"
   ]
  },
  {
   "cell_type": "code",
   "execution_count": 20,
   "id": "ba7ea3a0-9f87-479f-b54c-6c829175763c",
   "metadata": {
    "ExecuteTime": {
     "end_time": "2025-10-05T14:09:50.720573Z",
     "start_time": "2025-10-05T14:09:50.717721Z"
    }
   },
   "outputs": [
    {
     "name": "stdout",
     "output_type": "stream",
     "text": [
      "[  0  25  50  75 100]\n"
     ]
    }
   ],
   "source": [
    "arr = np.linspace(0,100,5,dtype=int) #start,end,几份\n",
    "print(arr)"
   ]
  },
  {
   "cell_type": "code",
   "execution_count": 21,
   "id": "b5ccbf04-3b82-49a9-9b07-b81aada13fc0",
   "metadata": {
    "ExecuteTime": {
     "end_time": "2025-10-05T14:09:50.774725Z",
     "start_time": "2025-10-05T14:09:50.771814Z"
    }
   },
   "outputs": [
    {
     "name": "stdout",
     "output_type": "stream",
     "text": [
      "[ 1.  4. 16.]\n"
     ]
    }
   ],
   "source": [
    "# 对数间隔数列\n",
    "arr = np.logspace(0,4,3,base=2)  #start,end,几份，以2为底\n",
    "print(arr)   #2的0次方是1，2次方是4，4次方是16"
   ]
  },
  {
   "cell_type": "code",
   "execution_count": 22,
   "id": "811112fd-5920-4ef5-945a-f54a4709a4bc",
   "metadata": {
    "ExecuteTime": {
     "end_time": "2025-10-05T14:09:50.822520Z",
     "start_time": "2025-10-05T14:09:50.818985Z"
    }
   },
   "outputs": [
    {
     "name": "stdout",
     "output_type": "stream",
     "text": [
      "[[1 0 0]\n",
      " [0 1 0]\n",
      " [0 0 1]]\n"
     ]
    }
   ],
   "source": [
    "# 特殊矩阵\n",
    "# 单位矩阵\n",
    "arr = np.eye(3,dtype = int)  #3是形状\n",
    "print(arr)"
   ]
  },
  {
   "cell_type": "code",
   "execution_count": 23,
   "id": "e381ee79-6ea4-4aa8-85bc-55c8df331eb0",
   "metadata": {
    "ExecuteTime": {
     "end_time": "2025-10-05T14:09:50.848949Z",
     "start_time": "2025-10-05T14:09:50.845322Z"
    }
   },
   "outputs": [
    {
     "name": "stdout",
     "output_type": "stream",
     "text": [
      "[[1 0 0 0]\n",
      " [0 1 0 0]\n",
      " [0 0 1 0]]\n"
     ]
    }
   ],
   "source": [
    "arr = np.eye(3,4,dtype = int)  #3,4是形状\n",
    "print(arr)"
   ]
  },
  {
   "cell_type": "code",
   "execution_count": 24,
   "id": "9fd08611-aefb-4343-8b62-832add461abc",
   "metadata": {
    "ExecuteTime": {
     "end_time": "2025-10-05T14:09:50.877426Z",
     "start_time": "2025-10-05T14:09:50.873333Z"
    }
   },
   "outputs": [
    {
     "name": "stdout",
     "output_type": "stream",
     "text": [
      "[[1 0 0]\n",
      " [0 2 0]\n",
      " [0 0 3]]\n"
     ]
    }
   ],
   "source": [
    "# 对角矩阵:主对角线上的数字非0，其余为0\n",
    "arr = np.diag([1,2,3])\n",
    "print(arr)"
   ]
  },
  {
   "cell_type": "code",
   "execution_count": 25,
   "id": "a7a7e08a-fd2e-4277-aaab-5db9c54c47b4",
   "metadata": {
    "ExecuteTime": {
     "end_time": "2025-10-05T14:09:50.894381Z",
     "start_time": "2025-10-05T14:09:50.891413Z"
    }
   },
   "outputs": [
    {
     "name": "stdout",
     "output_type": "stream",
     "text": [
      "[[0.96630799 0.43327253 0.72526207]\n",
      " [0.71442137 0.86996713 0.18371977]]\n"
     ]
    }
   ],
   "source": [
    "# 随机数组的生成\n",
    "# 生成0到1之间的随机浮点数（均匀分布）   均匀分布指的是概率相等\n",
    "arr = np.random.rand(2,3)\n",
    "print(arr)"
   ]
  },
  {
   "cell_type": "code",
   "execution_count": 26,
   "id": "6a1f62be-f7b3-4c49-919a-3eeee233470b",
   "metadata": {
    "ExecuteTime": {
     "end_time": "2025-10-05T14:09:50.936886Z",
     "start_time": "2025-10-05T14:09:50.933331Z"
    }
   },
   "outputs": [
    {
     "name": "stdout",
     "output_type": "stream",
     "text": [
      "[[4.31426781 3.40709854 5.11994955]\n",
      " [3.02552815 3.18937189 3.00367048]]\n"
     ]
    }
   ],
   "source": [
    "# 生成指定范围区间的随机浮点数\n",
    "arr = np.random.uniform(3,6,(2,3)) #3 到6\n",
    "print(arr)"
   ]
  },
  {
   "cell_type": "code",
   "execution_count": 27,
   "id": "0f7dd2e0-b0c9-43fe-ac66-1bfc98b2c4f8",
   "metadata": {
    "ExecuteTime": {
     "end_time": "2025-10-05T14:09:50.981176Z",
     "start_time": "2025-10-05T14:09:50.978106Z"
    }
   },
   "outputs": [
    {
     "name": "stdout",
     "output_type": "stream",
     "text": [
      "[[29 15  2]\n",
      " [13 11 14]]\n"
     ]
    }
   ],
   "source": [
    "# 生成指定范围区间的随机整数\n",
    "arr = np.random.randint(2,30,(2,3)) #2到30，(  ]\n",
    "print(arr)"
   ]
  },
  {
   "cell_type": "code",
   "execution_count": 28,
   "id": "4e991cf5-e10c-40ae-b34a-f77025670b51",
   "metadata": {
    "ExecuteTime": {
     "end_time": "2025-10-05T14:09:51.027152Z",
     "start_time": "2025-10-05T14:09:51.024133Z"
    }
   },
   "outputs": [
    {
     "name": "stdout",
     "output_type": "stream",
     "text": [
      "[[-2.17554903  0.85913648 -1.3181008 ]\n",
      " [ 0.84197288  1.07184078 -0.50168009]]\n"
     ]
    }
   ],
   "source": [
    "#生成随机数列 （正态分布） \n",
    "arr = np.random.randn(2,3) \n",
    "print(arr)"
   ]
  },
  {
   "cell_type": "markdown",
   "id": "cb9c86b1-91aa-4576-bc5e-2d33312e0077",
   "metadata": {},
   "source": [
    "## 4 索引与切片"
   ]
  },
  {
   "cell_type": "code",
   "execution_count": 29,
   "id": "85fd9be5-152d-49d1-92ff-c07a2a20a768",
   "metadata": {
    "ExecuteTime": {
     "end_time": "2025-10-05T14:09:51.074963Z",
     "start_time": "2025-10-05T14:09:51.071925Z"
    }
   },
   "outputs": [
    {
     "name": "stdout",
     "output_type": "stream",
     "text": [
      "[11 52 48 57  1 14 38 53 86 20 95 65 54  6 40 57 74 82 76  8]\n"
     ]
    }
   ],
   "source": [
    "arr = np.random.randint(1,100,20)\n",
    "print(arr)"
   ]
  },
  {
   "cell_type": "code",
   "execution_count": 30,
   "id": "6c4cfa56-d479-4854-90c9-4c045597cc58",
   "metadata": {
    "ExecuteTime": {
     "end_time": "2025-10-05T14:09:51.125324Z",
     "start_time": "2025-10-05T14:09:51.121181Z"
    }
   },
   "outputs": [
    {
     "name": "stdout",
     "output_type": "stream",
     "text": [
      "[11 52 48 57  1 14 38 53 86 20 95 65 54  6 40 57 74 82 76  8]\n",
      "[48 57  1]\n",
      "[11 52 48 57 14 38 53 20 54 40 57]\n",
      "[48 57  1]\n"
     ]
    }
   ],
   "source": [
    "print(arr[:]) #获取全部数据\n",
    "print(arr[2:5]) #获取2到4的元素  [  )\n",
    "print(arr[(arr>10) & (arr<60)]) #布尔索引，就是条件\n",
    "print(arr[slice(2,5)])  # start,end,step  [    )"
   ]
  },
  {
   "cell_type": "code",
   "execution_count": 31,
   "id": "26356085-956e-4b51-8727-4f78d21d2a7c",
   "metadata": {
    "ExecuteTime": {
     "end_time": "2025-10-05T14:09:51.145310Z",
     "start_time": "2025-10-05T14:09:51.141710Z"
    }
   },
   "outputs": [
    {
     "name": "stdout",
     "output_type": "stream",
     "text": [
      "[[ 9 17 27 70 31 86 34 80]\n",
      " [57 26 33 85 73 19 54 90]\n",
      " [35  3 69 23 11 22 78 70]\n",
      " [31 38 20 32 35 58 81 73]]\n"
     ]
    }
   ],
   "source": [
    "# 二维数组索引和切片\n",
    "arr = np.random.randint(1,100,(4,8))\n",
    "print(arr)"
   ]
  },
  {
   "cell_type": "code",
   "execution_count": 32,
   "id": "d33065d6-7910-42b1-949e-f0aef28d0552",
   "metadata": {
    "ExecuteTime": {
     "end_time": "2025-10-05T14:09:51.184104Z",
     "start_time": "2025-10-05T14:09:51.181093Z"
    }
   },
   "outputs": [
    {
     "name": "stdout",
     "output_type": "stream",
     "text": [
      "85\n",
      "[33 85 73]\n",
      "[70 86 80 57 85 73 54 90 69 78 70 58 81 73]\n",
      "[69 78 70]\n"
     ]
    }
   ],
   "source": [
    "print(arr[1,3])   # 索引\n",
    "print(arr[ 1,2:5])  # 1指的是第“1”行    2；5是2到5\n",
    "print(arr[arr>50])  # 会变成一维数组\n",
    "print(arr[2][ arr[2] > 50])    #第“2”行 大于50"
   ]
  },
  {
   "cell_type": "markdown",
   "id": "10b2116d-b4a4-456c-b3a7-3fcc683f1db7",
   "metadata": {},
   "source": [
    "## 5 ndarray运算"
   ]
  },
  {
   "cell_type": "code",
   "execution_count": 33,
   "id": "627e93ce-0b27-434d-a7ac-d143d11b98cc",
   "metadata": {
    "ExecuteTime": {
     "end_time": "2025-10-05T14:09:51.239899Z",
     "start_time": "2025-10-05T14:09:51.236861Z"
    }
   },
   "outputs": [
    {
     "name": "stdout",
     "output_type": "stream",
     "text": [
      "[5 7 9]\n"
     ]
    }
   ],
   "source": [
    "# 算数运算\n",
    "a = np.array([1,2,3])\n",
    "b = np.array([4,5,6])\n",
    "print(a+b)    #包括其余  - * / **"
   ]
  },
  {
   "cell_type": "code",
   "execution_count": 34,
   "id": "1a4f16a5-8599-481c-805d-4c8cf9c8e198",
   "metadata": {
    "ExecuteTime": {
     "end_time": "2025-10-05T14:09:51.284155Z",
     "start_time": "2025-10-05T14:09:51.281738Z"
    }
   },
   "outputs": [
    {
     "name": "stdout",
     "output_type": "stream",
     "text": [
      "[1, 2, 3, 4, 5, 6]\n"
     ]
    }
   ],
   "source": [
    "c = [1,2,3]\n",
    "d = [4,5,6]\n",
    "print(c+d)   #这里是列表和数组的差距,列表只能拼接"
   ]
  },
  {
   "cell_type": "code",
   "execution_count": 35,
   "id": "8afd6199-b4ff-4905-94e4-4663c6b2ebf0",
   "metadata": {
    "ExecuteTime": {
     "end_time": "2025-10-05T14:09:51.324005Z",
     "start_time": "2025-10-05T14:09:51.319895Z"
    }
   },
   "outputs": [
    {
     "name": "stdout",
     "output_type": "stream",
     "text": [
      "[[ 4  5  6]\n",
      " [ 7  8  9]\n",
      " [10 11 12]]\n"
     ]
    }
   ],
   "source": [
    "a = np.array([[1,2,3],[4,5,6],[7,8,9]])\n",
    "print(a+3) # 依旧演示,各个位置都加3   其余算数同理"
   ]
  },
  {
   "cell_type": "code",
   "execution_count": 36,
   "id": "484da6c2-108c-4a2c-944e-feecf982d050",
   "metadata": {
    "ExecuteTime": {
     "end_time": "2025-10-05T14:09:51.355398Z",
     "start_time": "2025-10-05T14:09:51.352080Z"
    }
   },
   "outputs": [
    {
     "name": "stdout",
     "output_type": "stream",
     "text": [
      "[[5 6 7]\n",
      " [6 7 8]\n",
      " [7 8 9]]\n"
     ]
    }
   ],
   "source": [
    "# 广播机制: 1 获取形状 2 是否可以广播         例如 1 * 2 和 1*3不行\n",
    "# 同意维度 : 相同\n",
    "a = np.array([1,2,3])  #  1 * 3\n",
    "b = np.array([[4],[5],[6]]) # 3 * 1\n",
    "print(a+b)\n",
    "#      a\n",
    "#    1 2 3\n",
    "#    1 2 3\n",
    "#    1 2 3\n",
    "#      b\n",
    "#    4 4 4\n",
    "#    5 5 5\n",
    "#    6 6 6 "
   ]
  },
  {
   "cell_type": "code",
   "execution_count": 37,
   "id": "ffd1b0b5-55ec-4ba0-9032-0f3522bc4d58",
   "metadata": {
    "ExecuteTime": {
     "end_time": "2025-10-05T14:09:51.371845Z",
     "start_time": "2025-10-05T14:09:51.368946Z"
    }
   },
   "outputs": [
    {
     "name": "stdout",
     "output_type": "stream",
     "text": [
      "[[ 4 10 18]\n",
      " [28 40 54]\n",
      " [ 7 16 27]]\n",
      "[[ 21  27  33]\n",
      " [ 57  72  87]\n",
      " [ 93 117 141]]\n"
     ]
    }
   ],
   "source": [
    "# 矩阵运算\n",
    "a = np.array([[1,2,3],[4,5,6],[7,8,9]])\n",
    "b = np.array([[4,5,6],[7,8,9],[1,2,3]])\n",
    "print(a*b)  # 这是数组的乘\n",
    "print(a @ b) #这是矩阵的乘"
   ]
  },
  {
   "cell_type": "markdown",
   "id": "2247d2d3-0d1f-4b52-acd7-6168bb5dc54e",
   "metadata": {},
   "source": [
    "# 二 numpy中的数学函数"
   ]
  },
  {
   "cell_type": "markdown",
   "id": "a0be358e-8e2c-4722-8bf7-e61f2bea9e52",
   "metadata": {},
   "source": [
    "## 1.基本数学函数"
   ]
  },
  {
   "cell_type": "code",
   "execution_count": 38,
   "id": "0a6ee6e5-83c4-47e3-848a-17753cad68be",
   "metadata": {
    "ExecuteTime": {
     "end_time": "2025-10-05T14:09:51.397850Z",
     "start_time": "2025-10-05T14:09:51.394322Z"
    }
   },
   "outputs": [
    {
     "name": "stdout",
     "output_type": "stream",
     "text": [
      "3.0\n",
      "[1. 2. 3.]\n",
      "[1. 5. 9.]\n"
     ]
    }
   ],
   "source": [
    "# 计算平方根\n",
    "print(np.sqrt(9))\n",
    "print(np.sqrt([1,4,9]))\n",
    "arr = np.array([1,25,81])\n",
    "print(np.sqrt(arr))"
   ]
  },
  {
   "cell_type": "code",
   "execution_count": 39,
   "id": "10d4cd6d-b89b-409c-b10a-1aba3474f01c",
   "metadata": {
    "ExecuteTime": {
     "end_time": "2025-10-05T14:09:51.433306Z",
     "start_time": "2025-10-05T14:09:51.410709Z"
    }
   },
   "outputs": [
    {
     "name": "stdout",
     "output_type": "stream",
     "text": [
      "2.718281828459045\n",
      "1.0\n"
     ]
    }
   ],
   "source": [
    "# 计算指数  默认以e为底  e^x\n",
    "print(np.exp(1))\n",
    "print(np.exp(0))"
   ]
  },
  {
   "cell_type": "code",
   "execution_count": 40,
   "id": "f6f4fb96-85c4-4b58-989c-777485690513",
   "metadata": {
    "ExecuteTime": {
     "end_time": "2025-10-05T14:09:51.487200Z",
     "start_time": "2025-10-05T14:09:51.484177Z"
    }
   },
   "outputs": [
    {
     "name": "stdout",
     "output_type": "stream",
     "text": [
      "0.9969486348916096\n"
     ]
    }
   ],
   "source": [
    "# 计算自然对数   默认e为底 ln x\n",
    "print(np.log(2.71))"
   ]
  },
  {
   "cell_type": "code",
   "execution_count": 41,
   "id": "0a26fbf8-1938-4c70-80a4-b3cbe4ee307e",
   "metadata": {
    "ExecuteTime": {
     "end_time": "2025-10-05T14:09:51.555777Z",
     "start_time": "2025-10-05T14:09:51.553303Z"
    }
   },
   "outputs": [
    {
     "name": "stdout",
     "output_type": "stream",
     "text": [
      "1.0\n",
      "1.0\n"
     ]
    }
   ],
   "source": [
    "# 计算正弦余弦\n",
    "print(np.sin(np.pi/2))\n",
    "print(np.cos(0))"
   ]
  },
  {
   "cell_type": "code",
   "execution_count": 42,
   "id": "c42e7ed6-c636-4e03-be09-d2ab815635e3",
   "metadata": {
    "ExecuteTime": {
     "end_time": "2025-10-05T14:09:51.614551Z",
     "start_time": "2025-10-05T14:09:51.611214Z"
    }
   },
   "outputs": [
    {
     "name": "stdout",
     "output_type": "stream",
     "text": [
      "[1 1 2 3]\n"
     ]
    }
   ],
   "source": [
    "# 计算绝对值\n",
    "arr = np.array([-1,1,2,-3])\n",
    "print(np.abs(arr))"
   ]
  },
  {
   "cell_type": "code",
   "execution_count": 43,
   "id": "08bcbe3c-4a5b-4199-b1b0-ff43b34a81eb",
   "metadata": {
    "ExecuteTime": {
     "end_time": "2025-10-05T14:09:51.650999Z",
     "start_time": "2025-10-05T14:09:51.647983Z"
    }
   },
   "outputs": [
    {
     "name": "stdout",
     "output_type": "stream",
     "text": [
      "[ -1   1   8 -27]\n"
     ]
    }
   ],
   "source": [
    "# 计算a的b次幂\n",
    "print(np.power(arr,3))"
   ]
  },
  {
   "cell_type": "code",
   "execution_count": 44,
   "id": "29aef03b-e114-46eb-8e59-8b79c05302a7",
   "metadata": {
    "ExecuteTime": {
     "end_time": "2025-10-05T14:09:51.672707Z",
     "start_time": "2025-10-05T14:09:51.669670Z"
    }
   },
   "outputs": [
    {
     "name": "stdout",
     "output_type": "stream",
     "text": [
      "[ 3.  4.  9. 10.]\n"
     ]
    }
   ],
   "source": [
    "# 四舍五入\n",
    "print(np.round([3.2,4.5,8.51,9.6]))"
   ]
  },
  {
   "cell_type": "code",
   "execution_count": 45,
   "id": "45245f2d-b0ee-492a-948c-158115591b72",
   "metadata": {
    "ExecuteTime": {
     "end_time": "2025-10-05T14:09:51.724443Z",
     "start_time": "2025-10-05T14:09:51.720980Z"
    }
   },
   "outputs": [
    {
     "name": "stdout",
     "output_type": "stream",
     "text": [
      "[ 4.  5.  9. 10.]\n",
      "[3. 4. 8. 9.]\n"
     ]
    }
   ],
   "source": [
    "# 向上取整和向下取整\n",
    "arr = np.array([3.2,4.5,8.51,9.6])\n",
    "print(np.ceil(arr))\n",
    "print(np.floor(arr))"
   ]
  },
  {
   "cell_type": "code",
   "execution_count": 46,
   "id": "a26ccd21-b2e0-4b9f-a8e6-7120e490deb8",
   "metadata": {
    "ExecuteTime": {
     "end_time": "2025-10-05T14:09:51.775539Z",
     "start_time": "2025-10-05T14:09:51.771320Z"
    }
   },
   "outputs": [
    {
     "data": {
      "text/plain": [
       "array([False, False,  True, False])"
      ]
     },
     "execution_count": 46,
     "metadata": {},
     "output_type": "execute_result"
    }
   ],
   "source": [
    "# 检测缺失值NAN\n",
    "np.isnan([1,2,np.nan,3])"
   ]
  },
  {
   "cell_type": "markdown",
   "id": "3a4e3a8d-a446-4c4d-8a88-606fec6f89cc",
   "metadata": {},
   "source": [
    "# 2.统计函数 \n",
    "  求和，计算平均值，计算中位数，标准差，方差，查找最大值，最小值\n",
    "  计算分为数，累计和，累计差"
   ]
  },
  {
   "cell_type": "code",
   "execution_count": 47,
   "id": "4276b37a-fc6b-4a7b-a691-dceda764963c",
   "metadata": {
    "ExecuteTime": {
     "end_time": "2025-10-05T14:09:51.837973Z",
     "start_time": "2025-10-05T14:09:51.834382Z"
    }
   },
   "outputs": [
    {
     "name": "stdout",
     "output_type": "stream",
     "text": [
      "[15 13 12  2 10  5  7  3]\n"
     ]
    }
   ],
   "source": [
    "arr = np.random.randint(1,20,8)\n",
    "print(arr)"
   ]
  },
  {
   "cell_type": "code",
   "execution_count": 48,
   "id": "f1ca11f3-bd93-49fb-8c7a-75293d1d36cc",
   "metadata": {
    "ExecuteTime": {
     "end_time": "2025-10-05T14:09:51.887420Z",
     "start_time": "2025-10-05T14:09:51.882827Z"
    }
   },
   "outputs": [
    {
     "name": "stdout",
     "output_type": "stream",
     "text": [
      "6\n"
     ]
    }
   ],
   "source": [
    "#求和\n",
    "print(np.sum([1,2,3]))"
   ]
  },
  {
   "cell_type": "code",
   "execution_count": 49,
   "id": "3f5b9d4e-2d65-479c-81bf-97694fd22020",
   "metadata": {
    "ExecuteTime": {
     "end_time": "2025-10-05T14:09:51.914596Z",
     "start_time": "2025-10-05T14:09:51.911079Z"
    }
   },
   "outputs": [
    {
     "name": "stdout",
     "output_type": "stream",
     "text": [
      "8.375\n"
     ]
    }
   ],
   "source": [
    "# 平均值\n",
    "print(np.mean((arr)))"
   ]
  },
  {
   "cell_type": "code",
   "execution_count": 50,
   "id": "bf5d080d-c7a7-4b11-840e-a04006f7da9f",
   "metadata": {
    "ExecuteTime": {
     "end_time": "2025-10-05T14:09:51.951766Z",
     "start_time": "2025-10-05T14:09:51.948165Z"
    }
   },
   "outputs": [
    {
     "name": "stdout",
     "output_type": "stream",
     "text": [
      "2.5\n",
      "2.0\n"
     ]
    }
   ],
   "source": [
    "# 中位数\n",
    "print(np.median([1,2,3,4]))\n",
    "print(np.median([1,2,4]))"
   ]
  },
  {
   "cell_type": "code",
   "execution_count": 51,
   "id": "b6441cc7-ceb4-4267-a988-07d7fe8ee599",
   "metadata": {
    "ExecuteTime": {
     "end_time": "2025-10-05T14:09:51.987369Z",
     "start_time": "2025-10-05T14:09:51.977151Z"
    },
    "scrolled": true
   },
   "outputs": [
    {
     "name": "stdout",
     "output_type": "stream",
     "text": [
      "0.6666666666666666\n",
      "0.816496580927726\n"
     ]
    }
   ],
   "source": [
    "# 计算标准差，方差  \n",
    "print(np.var([1,2,3]))\n",
    "print(np.std([1,2,3]))"
   ]
  },
  {
   "cell_type": "code",
   "execution_count": 52,
   "id": "432f2eb2-b37b-4362-ba01-cd3ef76d170c",
   "metadata": {
    "ExecuteTime": {
     "end_time": "2025-10-05T14:09:52.027636Z",
     "start_time": "2025-10-05T14:09:52.025139Z"
    }
   },
   "outputs": [],
   "source": [
    "# 最大值最小值"
   ]
  },
  {
   "cell_type": "code",
   "execution_count": 53,
   "id": "b524bfc2-df4b-4927-a301-5c2c7da68d48",
   "metadata": {
    "ExecuteTime": {
     "end_time": "2025-10-05T14:09:52.067763Z",
     "start_time": "2025-10-05T14:09:52.063932Z"
    }
   },
   "outputs": [
    {
     "name": "stdout",
     "output_type": "stream",
     "text": [
      "[15 13 12  2 10  5  7  3]\n",
      "15 0\n",
      "2 3\n"
     ]
    }
   ],
   "source": [
    "print(arr)\n",
    "print(np.max(arr),np.argmax(arr))\n",
    "print(np.min(arr),np.argmin(arr))"
   ]
  },
  {
   "cell_type": "code",
   "execution_count": 54,
   "id": "3fea9581-0dd3-4e27-afe7-0623762450c0",
   "metadata": {
    "ExecuteTime": {
     "end_time": "2025-10-05T14:09:52.102985Z",
     "start_time": "2025-10-05T14:09:52.098750Z"
    }
   },
   "outputs": [
    {
     "name": "stdout",
     "output_type": "stream",
     "text": [
      "2.0\n",
      "[44 47 64 67]\n",
      "55.5\n",
      "55.5\n"
     ]
    }
   ],
   "source": [
    "# 分为数，中位数  \n",
    "print(np.median([1,2,3]))\n",
    "np.random.seed(0)\n",
    "arr = np.random.randint(0,100,4)\n",
    "print(arr)\n",
    "print(np.median(arr))\n",
    "print(np.percentile(arr,50))  # 就是百分之五十"
   ]
  },
  {
   "cell_type": "code",
   "execution_count": 55,
   "id": "742c66f3-7c07-49c7-b9c6-63fe111e1eae",
   "metadata": {
    "ExecuteTime": {
     "end_time": "2025-10-05T14:09:52.138522Z",
     "start_time": "2025-10-05T14:09:52.135726Z"
    }
   },
   "outputs": [
    {
     "name": "stdout",
     "output_type": "stream",
     "text": [
      "6\n",
      "[1 3 6]\n",
      "[1 2 6]\n"
     ]
    }
   ],
   "source": [
    "# 累计和，累计积\n",
    "arr = np.array([1,2,3])\n",
    "print(np.sum(arr)) # 求和\n",
    "print(np.cumsum(arr)) # 累计和\n",
    "print(np.cumprod(arr)) # 累计积"
   ]
  },
  {
   "cell_type": "markdown",
   "id": "aebe47ba-6620-43f6-8aed-af4d3c1d1dd7",
   "metadata": {},
   "source": [
    "## 比较函数"
   ]
  },
  {
   "cell_type": "code",
   "execution_count": 63,
   "id": "7c1eaecf-214d-4925-89e7-e95780592764",
   "metadata": {},
   "outputs": [
    {
     "name": "stdout",
     "output_type": "stream",
     "text": [
      "[False False  True  True  True]\n",
      "[ True False False False False]\n",
      "[False  True False False False]\n",
      "[ True  True False]\n"
     ]
    }
   ],
   "source": [
    "# 是否大于\n",
    "print(np.greater([3,4,5,6,7],4))\n",
    "# 是否小于\n",
    "print(np.less([3,4,5,6,7,],4))\n",
    "# 是否等于\n",
    "print(np.equal([3,4,5,6,7],4))\n",
    "print(np.equal([3,4,5],[3,4,4]))  # 注意形状要相同，不然报错 "
   ]
  },
  {
   "cell_type": "code",
   "execution_count": 65,
   "id": "914da66e-94b7-4cad-b3a8-424d6db21fe0",
   "metadata": {},
   "outputs": [
    {
     "name": "stdout",
     "output_type": "stream",
     "text": [
      "[ True False]\n",
      "[ True  True]\n",
      "[False  True]\n"
     ]
    }
   ],
   "source": [
    "print(np.logical_and([1,0],[1,1]))    #逻辑与\n",
    "print(np.logical_or([0,0],[1,1]))     #逻辑或\n",
    "print(np.logical_not([1,0]))          #相反 "
   ]
  },
  {
   "cell_type": "code",
   "execution_count": 66,
   "id": "395c9a1a-4aa1-4459-84c4-cf6e31ae44f2",
   "metadata": {},
   "outputs": [
    {
     "name": "stdout",
     "output_type": "stream",
     "text": [
      "True\n",
      "False\n"
     ]
    }
   ],
   "source": [
    "# 检查元素是否至少有一个元素为True\n",
    "print(np.any([0,0,0,0,0,1]))\n",
    "print(np.all([1,1,1,1,0]))"
   ]
  },
  {
   "cell_type": "code",
   "execution_count": 72,
   "id": "024d6a15-8964-4bc0-bf85-f442bb9c4de2",
   "metadata": {},
   "outputs": [
    {
     "name": "stdout",
     "output_type": "stream",
     "text": [
      "[0 0 0 4 5]\n"
     ]
    }
   ],
   "source": [
    "# 自定义条件\n",
    "# print(np.where(条件,符合条件,不符合条件的))\n",
    "arr = np.array([1,2,3,4,5])\n",
    "print(np.where(arr>3,arr,0))"
   ]
  },
  {
   "cell_type": "code",
   "execution_count": 75,
   "id": "e4f40c77-8bc2-4e5d-aba5-bbdac26663be",
   "metadata": {},
   "outputs": [
    {
     "name": "stdout",
     "output_type": "stream",
     "text": [
      "[1 1 0 0 0]\n"
     ]
    }
   ],
   "source": [
    "arr = np.array([1,2,3,4,5])\n",
    "print(np.where(arr<3,1,0))  #用来分类"
   ]
  },
  {
   "cell_type": "code",
   "execution_count": 88,
   "id": "d7545cb7-1a97-41fc-90f5-c671249fd540",
   "metadata": {},
   "outputs": [
    {
     "name": "stdout",
     "output_type": "stream",
     "text": [
      "[59 82 81 60 73 85 61 78 84 50 50 86 55 88 90 67 65 54 91 92]\n",
      "['不及格' '及格' '及格' '及格' '及格' '及格' '及格' '及格' '及格' '不及格' '不及格' '及格' '不及格' '及格'\n",
      " '及格' '及格' '及格' '不及格' '及格' '及格']\n"
     ]
    }
   ],
   "source": [
    "score = np.random.randint(50,100,20)\n",
    "print(score)\n",
    "print(np.where(score>=60,\"及格\",\"不及格\"))"
   ]
  },
  {
   "cell_type": "code",
   "execution_count": 91,
   "id": "718b81e3-dba6-4d7c-845b-e4ab46190ec2",
   "metadata": {},
   "outputs": [
    {
     "name": "stdout",
     "output_type": "stream",
     "text": [
      "['不及格' '优秀' '优秀' '良' '良' '优秀' '良' '良' '优秀' '不及格' '不及格' '优秀' '不及格' '优秀'\n",
      " '优秀' '良' '良' '不及格' '优秀' '优秀']\n"
     ]
    }
   ],
   "source": [
    "# 嵌套用法\n",
    "print(np.where(score<60,\"不及格\",np.where(score<80,\"良\",\"优秀\")))"
   ]
  },
  {
   "cell_type": "code",
   "execution_count": 94,
   "id": "161af494-f0b9-4507-ab04-7850e6b9c5d2",
   "metadata": {},
   "outputs": [
    {
     "name": "stdout",
     "output_type": "stream",
     "text": [
      "['不及格' '优秀' '优秀' '良好' '良好' '优秀' '良好' '良好' '优秀' '不及格' '不及格' '优秀' '不及格' '优秀'\n",
      " '优秀' '良好' '良好' '不及格' '优秀' '优秀']\n"
     ]
    }
   ],
   "source": [
    "# np.select (条件，返回的结果)\n",
    "print(np.select([score>80,(score>=60) & (score<=80) , score<60],['优秀','良好','不及格'],default = '未知'))"
   ]
  },
  {
   "cell_type": "code",
   "execution_count": 104,
   "id": "f17176f7-7d38-4259-9a02-cdcde70c14d9",
   "metadata": {},
   "outputs": [
    {
     "name": "stdout",
     "output_type": "stream",
     "text": [
      "[45 48 65 68 68 10 84 22 37 88 71 89 89 13 59 66 40 88 47 89]\n",
      "[10 13 22 37 40 45 47 48 59 65 66 68 68 71 84 88 88 89 89 89]\n",
      "[ 5 13  7  8 16  0 18  1 14  2 15  3  4 10  6 17  9 11 12 19]\n"
     ]
    }
   ],
   "source": [
    "# 排序函数\n",
    "np.random.seed(0)\n",
    "arr = np.random.randint(1,100,20)\n",
    "print(arr)\n",
    "# arr.sort()     会直接改变数组的顺序\n",
    "# print(arr) \n",
    "print(np.sort(arr))   # 不会污染原始数组\n",
    "print(np.argsort(arr))  # 索引"
   ]
  },
  {
   "cell_type": "code",
   "execution_count": 106,
   "id": "996c9a6f-cc3d-4dd8-96b3-68e4ba6ac233",
   "metadata": {},
   "outputs": [
    {
     "name": "stdout",
     "output_type": "stream",
     "text": [
      "[10 13 22 37 40 45 47 48 59 65 66 68 71 84 88 89]\n"
     ]
    }
   ],
   "source": [
    "# 去重函数\n",
    "print(np.unique(arr))   #去重的同时会重新排序"
   ]
  },
  {
   "cell_type": "code",
   "execution_count": 108,
   "id": "17f1bfc8-a73e-4e8d-b76e-d0a409d2dd94",
   "metadata": {},
   "outputs": [
    {
     "name": "stdout",
     "output_type": "stream",
     "text": [
      "[5 7 9]\n",
      "[1 2 3 4 5 6]\n"
     ]
    }
   ],
   "source": [
    "# 数组拼接\n",
    "arr1 = np.array([1,2,3])\n",
    "arr2 = np.array([4,5,6])\n",
    "print(arr1 + arr2)   \n",
    "print(np.concatenate((arr1,arr2)))"
   ]
  },
  {
   "cell_type": "code",
   "execution_count": 111,
   "id": "f246f5e5-49dd-437d-b7e3-db39028db96e",
   "metadata": {},
   "outputs": [
    {
     "name": "stdout",
     "output_type": "stream",
     "text": [
      "[array([45, 48, 65, 68, 68]), array([10, 84, 22, 37, 88]), array([71, 89, 89, 13, 59]), array([66, 40, 88, 47, 89])]\n",
      "[array([45, 48, 65, 68, 68, 10]), array([84, 22, 37, 88, 71, 89]), array([89, 13, 59, 66, 40, 88]), array([47, 89])]\n"
     ]
    }
   ],
   "source": [
    "# 数组分割\n",
    "print(np.split(arr,4))  # 等分\n",
    "print(np.split(arr,[6,12,18]))   # 切割未知的索引值"
   ]
  },
  {
   "cell_type": "code",
   "execution_count": 113,
   "id": "9e21043b-c54e-4f5d-bcbe-6923987a3058",
   "metadata": {},
   "outputs": [
    {
     "name": "stdout",
     "output_type": "stream",
     "text": [
      "[[45 48 65 68 68]\n",
      " [10 84 22 37 88]\n",
      " [71 89 89 13 59]\n",
      " [66 40 88 47 89]]\n"
     ]
    }
   ],
   "source": [
    "# 调整数组形状\n",
    "print(np.reshape(arr,[4,5]))    # 切割成四行五列"
   ]
  },
  {
   "cell_type": "code",
   "execution_count": null,
   "id": "44aef06b-fe6e-4cca-9d8e-482f9af086d9",
   "metadata": {},
   "outputs": [],
   "source": []
  }
 ],
 "metadata": {
  "kernelspec": {
   "display_name": "Python 3 (ipykernel)",
   "language": "python",
   "name": "python3"
  },
  "language_info": {
   "codemirror_mode": {
    "name": "ipython",
    "version": 3
   },
   "file_extension": ".py",
   "mimetype": "text/x-python",
   "name": "python",
   "nbconvert_exporter": "python",
   "pygments_lexer": "ipython3",
   "version": "3.12.4"
  }
 },
 "nbformat": 4,
 "nbformat_minor": 5
}
