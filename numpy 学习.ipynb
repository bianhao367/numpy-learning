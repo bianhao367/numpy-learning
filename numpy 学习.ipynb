{
 "cells": [
  {
   "cell_type": "markdown",
   "id": "50551292-b81e-481a-a3fd-8494a57dfce2",
   "metadata": {},
   "source": [
    "# 一、 ndarray\n",
    "## 1.ndarray的特性\n",
    "### 多维性"
   ]
  },
  {
   "cell_type": "code",
   "execution_count": 1,
   "id": "a60ff935-700e-4c28-9092-0b0d366606d7",
   "metadata": {},
   "outputs": [],
   "source": [
    "import numpy as np"
   ]
  },
  {
   "cell_type": "code",
   "execution_count": 2,
   "id": "29b5e33e-091d-4333-ba3c-aa69498549c3",
   "metadata": {},
   "outputs": [
    {
     "name": "stdout",
     "output_type": "stream",
     "text": [
      "5\n",
      "arr的维度： 0\n"
     ]
    }
   ],
   "source": [
    "arr = np.array(5)  # 创建0维的数组 arr    注意列表和数组并不完全一样，只是相似\n",
    "print(arr)\n",
    "print(\"arr的维度：\",arr.ndim) # 数组的维度"
   ]
  },
  {
   "cell_type": "code",
   "execution_count": 3,
   "id": "1916778a-14dc-4ef7-a843-ff0c8ebe3d4b",
   "metadata": {},
   "outputs": [
    {
     "name": "stdout",
     "output_type": "stream",
     "text": [
      "[1 2 3]\n",
      "arr的维度： 1\n"
     ]
    }
   ],
   "source": [
    "arr = np.array([1,2,3])  # 创建1维的数组 arr\n",
    "print(arr)\n",
    "print(\"arr的维度：\",arr.ndim) # 数组的维度"
   ]
  },
  {
   "cell_type": "code",
   "execution_count": 4,
   "id": "0d62b3a7-45ac-42dd-9a41-badeeddf6882",
   "metadata": {},
   "outputs": [
    {
     "name": "stdout",
     "output_type": "stream",
     "text": [
      "[[1 2 3]\n",
      " [4 5 6]]\n",
      "arr的维度： 2\n"
     ]
    }
   ],
   "source": [
    "arr = np.array([[1,2,3],[4,5,6]])  # 创建2维的数组 arr\n",
    "print(arr)\n",
    "print(\"arr的维度：\",arr.ndim) # 数组的维度"
   ]
  },
  {
   "cell_type": "markdown",
   "id": "f7252a69-1106-456c-839e-77f7847ecad1",
   "metadata": {},
   "source": [
    "### 同质性"
   ]
  },
  {
   "cell_type": "code",
   "execution_count": 5,
   "id": "f7d53590-85d4-4a43-ad51-9339fe9fe098",
   "metadata": {},
   "outputs": [
    {
     "name": "stdout",
     "output_type": "stream",
     "text": [
      "['1' 'hello']\n"
     ]
    }
   ],
   "source": [
    "arr = np.array([1,'hello'])  #不同的数据类型会被强制转换相同\n",
    "print(arr)"
   ]
  },
  {
   "cell_type": "markdown",
   "id": "a37138a7-f7b7-42b3-99b4-e4c71cd429e7",
   "metadata": {},
   "source": [
    "## 2.ndarray的属性"
   ]
  },
  {
   "cell_type": "code",
   "execution_count": 6,
   "id": "dcaaba23-8782-46a6-8015-3cb37e58dd07",
   "metadata": {},
   "outputs": [
    {
     "name": "stdout",
     "output_type": "stream",
     "text": [
      "1\n",
      "数组的形状： ()\n",
      "arr的维度： 0\n",
      "元素的个数： 1\n",
      "元素的数据类型： int32\n",
      "元素的转置 1\n"
     ]
    }
   ],
   "source": [
    "arr = np.array(1)\n",
    "print(arr)\n",
    "print(\"数组的形状：\",arr.shape)\n",
    "print(\"arr的维度：\",arr.ndim)\n",
    "print(\"元素的个数：\",arr.size)\n",
    "print(\"元素的数据类型：\",arr.dtype)\n",
    "print(\"元素的转置\",arr.T)"
   ]
  },
  {
   "cell_type": "code",
   "execution_count": 7,
   "id": "8277e982-b22a-44cf-8e78-b77a00d175ba",
   "metadata": {},
   "outputs": [
    {
     "name": "stdout",
     "output_type": "stream",
     "text": [
      "[1.  2.5 3. ]\n",
      "数组的形状： (3,)\n",
      "arr的维度： 1\n",
      "元素的个数： 3\n",
      "元素的数据类型： float64\n",
      "元素的转置 [1.  2.5 3. ]\n"
     ]
    }
   ],
   "source": [
    "arr = np.array([1,2.5,3])\n",
    "print(arr)\n",
    "print(\"数组的形状：\",arr.shape)\n",
    "print(\"arr的维度：\",arr.ndim)\n",
    "print(\"元素的个数：\",arr.size)\n",
    "print(\"元素的数据类型：\",arr.dtype)\n",
    "print(\"元素的转置\",arr.T)"
   ]
  },
  {
   "cell_type": "code",
   "execution_count": 8,
   "id": "e3435e25-de3f-4611-825d-8b7154cbf800",
   "metadata": {},
   "outputs": [
    {
     "name": "stdout",
     "output_type": "stream",
     "text": [
      "[[1 2 3]\n",
      " [4 5 6]]\n",
      "数组的形状： (2, 3)\n",
      "arr的维度： 2\n",
      "元素的个数： 6\n",
      "元素的数据类型： int32\n",
      "元素的转置 [[1 4]\n",
      " [2 5]\n",
      " [3 6]]\n"
     ]
    }
   ],
   "source": [
    "arr = np.array([[1,2,3],[4,5,6]])\n",
    "print(arr)\n",
    "print(\"数组的形状：\",arr.shape)\n",
    "print(\"arr的维度：\",arr.ndim)\n",
    "print(\"元素的个数：\",arr.size)\n",
    "print(\"元素的数据类型：\",arr.dtype)\n",
    "print(\"元素的转置\",arr.T)"
   ]
  },
  {
   "cell_type": "markdown",
   "id": "0202122a-0acc-4bcd-9ff7-c43fdb307b3d",
   "metadata": {},
   "source": [
    "## 3.ndarray的创建"
   ]
  },
  {
   "cell_type": "code",
   "execution_count": 9,
   "id": "d2131233-f07f-4b52-98ab-0cebce3717db",
   "metadata": {},
   "outputs": [
    {
     "name": "stdout",
     "output_type": "stream",
     "text": [
      "[1 2 3]\n"
     ]
    }
   ],
   "source": [
    "#基础的创建方法\n",
    "arr = np.array([1,2,3])\n",
    "print(arr)"
   ]
  },
  {
   "cell_type": "code",
   "execution_count": 10,
   "id": "977a6250-e2d0-4a8d-b2fe-68debb80d90b",
   "metadata": {},
   "outputs": [
    {
     "name": "stdout",
     "output_type": "stream",
     "text": [
      "[1. 2. 3.]\n",
      "float64\n"
     ]
    }
   ],
   "source": [
    "#基础的创建方法,与上面划等号\n",
    "list1 = [1,2,3]\n",
    "arr = np.array(list1,dtype=np.float64) #可以强制转化元素类型\n",
    "print(arr)\n",
    "print(arr.dtype)"
   ]
  },
  {
   "cell_type": "code",
   "execution_count": 11,
   "id": "482d12c3-155d-4b8b-b3d8-3be1390a06a2",
   "metadata": {},
   "outputs": [
    {
     "name": "stdout",
     "output_type": "stream",
     "text": [
      "[1. 2. 3.]\n"
     ]
    }
   ],
   "source": [
    "# copu\n",
    "arr1 = np.copy(arr) #内容一样，但是是两个数组\n",
    "print(arr1)"
   ]
  },
  {
   "cell_type": "code",
   "execution_count": 12,
   "id": "4e009a01-10e5-47e6-8e5a-fc55d6639321",
   "metadata": {},
   "outputs": [
    {
     "name": "stdout",
     "output_type": "stream",
     "text": [
      "[[0. 0. 0.]\n",
      " [0. 0. 0.]]\n",
      "float64\n"
     ]
    }
   ],
   "source": [
    "# 预定义形状\n",
    "# 全0 全1 未初始化\n",
    "# 全0\n",
    "arr = np.zeros((2,3))\n",
    "print(arr)\n",
    "print(arr.dtype)"
   ]
  },
  {
   "cell_type": "code",
   "execution_count": 13,
   "id": "dd409068-4869-4b02-97b6-5d69d6589df4",
   "metadata": {},
   "outputs": [
    {
     "name": "stdout",
     "output_type": "stream",
     "text": [
      "[[0 0 0]\n",
      " [0 0 0]]\n"
     ]
    }
   ],
   "source": [
    "arr = np.zeros((2,3),dtype = int)\n",
    "print(arr)"
   ]
  },
  {
   "cell_type": "code",
   "execution_count": 14,
   "id": "de628e80-84da-4677-9a52-1ee2fde1310a",
   "metadata": {},
   "outputs": [
    {
     "name": "stdout",
     "output_type": "stream",
     "text": [
      "[[1. 1. 1.]\n",
      " [1. 1. 1.]]\n"
     ]
    }
   ],
   "source": [
    "# 全1\n",
    "arr = np.ones((2,3))\n",
    "print(arr)"
   ]
  },
  {
   "cell_type": "code",
   "execution_count": 15,
   "id": "0848cc85-99ff-4596-9fa5-cf751e408c42",
   "metadata": {},
   "outputs": [
    {
     "name": "stdout",
     "output_type": "stream",
     "text": [
      "[[1.31491532e-311 2.47032823e-322 0.00000000e+000]\n",
      " [0.00000000e+000 0.00000000e+000 1.04082753e-047]\n",
      " [5.89571563e-091 2.90003500e-057 2.36842381e+179]\n",
      " [1.35055174e+161 3.99910963e+252 2.44749283e-056]]\n"
     ]
    }
   ],
   "source": [
    "# 未初始化，值不确定\n",
    "arr = np.empty((4,3))\n",
    "print(arr)"
   ]
  },
  {
   "cell_type": "code",
   "execution_count": 16,
   "id": "331a6790-11ce-4cd9-a72a-c52e2447b04a",
   "metadata": {},
   "outputs": [
    {
     "name": "stdout",
     "output_type": "stream",
     "text": [
      "[[2025 2025 2025]\n",
      " [2025 2025 2025]]\n"
     ]
    }
   ],
   "source": [
    "# full\n",
    "arr = np.full((2,3),2025)\n",
    "print(arr)"
   ]
  },
  {
   "cell_type": "code",
   "execution_count": 17,
   "id": "3382e20c-affb-4bfb-98c3-b1b73a52d945",
   "metadata": {},
   "outputs": [
    {
     "name": "stdout",
     "output_type": "stream",
     "text": [
      "[[0 0 0]\n",
      " [0 0 0]]\n"
     ]
    }
   ],
   "source": [
    "arr1 = np.zeros_like(arr) #会覆盖之前的2025\n",
    "print(arr1)"
   ]
  },
  {
   "cell_type": "code",
   "execution_count": 18,
   "id": "a71a42ab-3c89-4db3-bf25-d290e41095dc",
   "metadata": {},
   "outputs": [
    {
     "name": "stdout",
     "output_type": "stream",
     "text": [
      "[1 2 3 4 5 6 7 8 9]\n"
     ]
    }
   ],
   "source": [
    "# 等差数列 2,4,6,8\n",
    "arr = np.arange(1,10,1) #start,end,step,[ , )\n",
    "print(arr)"
   ]
  },
  {
   "cell_type": "code",
   "execution_count": 19,
   "id": "395b7b2d-4ee3-46fc-acb9-7564409335fc",
   "metadata": {},
   "outputs": [
    {
     "name": "stdout",
     "output_type": "stream",
     "text": [
      "[ 1.    3.25  5.5   7.75 10.  ]\n"
     ]
    }
   ],
   "source": [
    "# 等间隔数列\n",
    "arr = np.linspace(1,10,5) #start,end,几份\n",
    "print(arr)"
   ]
  },
  {
   "cell_type": "code",
   "execution_count": 20,
   "id": "ba7ea3a0-9f87-479f-b54c-6c829175763c",
   "metadata": {},
   "outputs": [
    {
     "name": "stdout",
     "output_type": "stream",
     "text": [
      "[  0  25  50  75 100]\n"
     ]
    }
   ],
   "source": [
    "arr = np.linspace(0,100,5,dtype=int) #start,end,几份\n",
    "print(arr)"
   ]
  },
  {
   "cell_type": "code",
   "execution_count": 21,
   "id": "b5ccbf04-3b82-49a9-9b07-b81aada13fc0",
   "metadata": {},
   "outputs": [
    {
     "name": "stdout",
     "output_type": "stream",
     "text": [
      "[ 1.  4. 16.]\n"
     ]
    }
   ],
   "source": [
    "# 对数间隔数列\n",
    "arr = np.logspace(0,4,3,base=2)  #start,end,几份，以2为底\n",
    "print(arr)   #2的0次方是1，2次方是4，4次方是16"
   ]
  },
  {
   "cell_type": "code",
   "execution_count": 22,
   "id": "811112fd-5920-4ef5-945a-f54a4709a4bc",
   "metadata": {},
   "outputs": [
    {
     "name": "stdout",
     "output_type": "stream",
     "text": [
      "[[1 0 0]\n",
      " [0 1 0]\n",
      " [0 0 1]]\n"
     ]
    }
   ],
   "source": [
    "# 特殊矩阵\n",
    "# 单位矩阵\n",
    "arr = np.eye(3,dtype = int)  #3是形状\n",
    "print(arr)"
   ]
  },
  {
   "cell_type": "code",
   "execution_count": 23,
   "id": "e381ee79-6ea4-4aa8-85bc-55c8df331eb0",
   "metadata": {},
   "outputs": [
    {
     "name": "stdout",
     "output_type": "stream",
     "text": [
      "[[1 0 0 0]\n",
      " [0 1 0 0]\n",
      " [0 0 1 0]]\n"
     ]
    }
   ],
   "source": [
    "arr = np.eye(3,4,dtype = int)  #3,4是形状\n",
    "print(arr)"
   ]
  },
  {
   "cell_type": "code",
   "execution_count": 24,
   "id": "9fd08611-aefb-4343-8b62-832add461abc",
   "metadata": {},
   "outputs": [
    {
     "name": "stdout",
     "output_type": "stream",
     "text": [
      "[[1 0 0]\n",
      " [0 2 0]\n",
      " [0 0 3]]\n"
     ]
    }
   ],
   "source": [
    "# 对角矩阵:主对角线上的数字非0，其余为0\n",
    "arr = np.diag([1,2,3])\n",
    "print(arr)"
   ]
  },
  {
   "cell_type": "code",
   "execution_count": 25,
   "id": "a7a7e08a-fd2e-4277-aaab-5db9c54c47b4",
   "metadata": {},
   "outputs": [
    {
     "name": "stdout",
     "output_type": "stream",
     "text": [
      "[[0.43051824 0.44674287 0.72270205]\n",
      " [0.8632845  0.50335642 0.74539202]]\n"
     ]
    }
   ],
   "source": [
    "# 随机数组的生成\n",
    "# 生成0到1之间的随机浮点数（均匀分布）   均匀分布指的是概率相等\n",
    "arr = np.random.rand(2,3)\n",
    "print(arr)"
   ]
  },
  {
   "cell_type": "code",
   "execution_count": 26,
   "id": "6a1f62be-f7b3-4c49-919a-3eeee233470b",
   "metadata": {},
   "outputs": [
    {
     "name": "stdout",
     "output_type": "stream",
     "text": [
      "[[5.43494199 5.13574446 5.1510719 ]\n",
      " [4.22972887 3.0187061  3.02159824]]\n"
     ]
    }
   ],
   "source": [
    "# 生成指定范围区间的随机浮点数\n",
    "arr = np.random.uniform(3,6,(2,3)) #3 到6\n",
    "print(arr)"
   ]
  },
  {
   "cell_type": "code",
   "execution_count": 27,
   "id": "0f7dd2e0-b0c9-43fe-ac66-1bfc98b2c4f8",
   "metadata": {},
   "outputs": [
    {
     "name": "stdout",
     "output_type": "stream",
     "text": [
      "[[27  6  3]\n",
      " [ 7 20 17]]\n"
     ]
    }
   ],
   "source": [
    "# 生成指定范围区间的随机整数\n",
    "arr = np.random.randint(2,30,(2,3)) #2到30，(  ]\n",
    "print(arr)"
   ]
  },
  {
   "cell_type": "code",
   "execution_count": 28,
   "id": "4e991cf5-e10c-40ae-b34a-f77025670b51",
   "metadata": {},
   "outputs": [
    {
     "name": "stdout",
     "output_type": "stream",
     "text": [
      "[[-0.72499335 -1.25948673 -1.46560511]\n",
      " [ 1.24300954  0.60401801  1.05458657]]\n"
     ]
    }
   ],
   "source": [
    "#生成随机数列 （正态分布） \n",
    "arr = np.random.randn(2,3) \n",
    "print(arr)"
   ]
  },
  {
   "cell_type": "markdown",
   "id": "cb9c86b1-91aa-4576-bc5e-2d33312e0077",
   "metadata": {},
   "source": [
    "## 4 索引与切片"
   ]
  },
  {
   "cell_type": "code",
   "execution_count": 29,
   "id": "85fd9be5-152d-49d1-92ff-c07a2a20a768",
   "metadata": {},
   "outputs": [
    {
     "name": "stdout",
     "output_type": "stream",
     "text": [
      "[21 36 47 75 41 36 21 68 53 43 91  5 72 13  9 32 87  5 57  2]\n"
     ]
    }
   ],
   "source": [
    "arr = np.random.randint(1,100,20)\n",
    "print(arr)"
   ]
  },
  {
   "cell_type": "code",
   "execution_count": 30,
   "id": "6c4cfa56-d479-4854-90c9-4c045597cc58",
   "metadata": {},
   "outputs": [
    {
     "name": "stdout",
     "output_type": "stream",
     "text": [
      "[21 36 47 75 41 36 21 68 53 43 91  5 72 13  9 32 87  5 57  2]\n",
      "[47 75 41]\n",
      "[21 36 47 41 36 21 53 43 13 32 57]\n",
      "[47 75 41]\n"
     ]
    }
   ],
   "source": [
    "print(arr[:]) #获取全部数据\n",
    "print(arr[2:5]) #获取2到4的元素  [  )\n",
    "print(arr[(arr>10) & (arr<60)]) #布尔索引，就是条件\n",
    "print(arr[slice(2,5)])  # start,end,step  [    )"
   ]
  },
  {
   "cell_type": "code",
   "execution_count": 31,
   "id": "26356085-956e-4b51-8727-4f78d21d2a7c",
   "metadata": {},
   "outputs": [
    {
     "name": "stdout",
     "output_type": "stream",
     "text": [
      "[[17 86 83 63 67 42 97 85]\n",
      " [90 66 31  8  3 70 72 41]\n",
      " [21 13 75 84 94 24 75 22]\n",
      " [66 94 36 79 43 47 49 55]]\n"
     ]
    }
   ],
   "source": [
    "# 二维数组索引和切片\n",
    "arr = np.random.randint(1,100,(4,8))\n",
    "print(arr)"
   ]
  },
  {
   "cell_type": "code",
   "execution_count": 32,
   "id": "d33065d6-7910-42b1-949e-f0aef28d0552",
   "metadata": {},
   "outputs": [
    {
     "name": "stdout",
     "output_type": "stream",
     "text": [
      "8\n",
      "[31  8  3]\n",
      "[86 83 63 67 97 85 90 66 70 72 75 84 94 75 66 94 79 55]\n",
      "[75 84 94 75]\n"
     ]
    }
   ],
   "source": [
    "print(arr[1,3])   # 索引\n",
    "print(arr[ 1,2:5])  # 1指的是第“1”行    2；5是2到5\n",
    "print(arr[arr>50])  # 会变成一维数组\n",
    "print(arr[2][ arr[2] > 50])    #第“2”行 大于50"
   ]
  },
  {
   "cell_type": "markdown",
   "id": "10b2116d-b4a4-456c-b3a7-3fcc683f1db7",
   "metadata": {},
   "source": [
    "## 5 ndarray运算"
   ]
  },
  {
   "cell_type": "code",
   "execution_count": 33,
   "id": "627e93ce-0b27-434d-a7ac-d143d11b98cc",
   "metadata": {},
   "outputs": [
    {
     "name": "stdout",
     "output_type": "stream",
     "text": [
      "[5 7 9]\n"
     ]
    }
   ],
   "source": [
    "# 算数运算\n",
    "a = np.array([1,2,3])\n",
    "b = np.array([4,5,6])\n",
    "print(a+b)    #包括其余  - * / **"
   ]
  },
  {
   "cell_type": "code",
   "execution_count": 34,
   "id": "1a4f16a5-8599-481c-805d-4c8cf9c8e198",
   "metadata": {},
   "outputs": [
    {
     "name": "stdout",
     "output_type": "stream",
     "text": [
      "[1, 2, 3, 4, 5, 6]\n"
     ]
    }
   ],
   "source": [
    "c = [1,2,3]\n",
    "d = [4,5,6]\n",
    "print(c+d)   #这里是列表和数组的差距,列表只能拼接"
   ]
  },
  {
   "cell_type": "code",
   "execution_count": 35,
   "id": "8afd6199-b4ff-4905-94e4-4663c6b2ebf0",
   "metadata": {},
   "outputs": [
    {
     "name": "stdout",
     "output_type": "stream",
     "text": [
      "[[ 4  5  6]\n",
      " [ 7  8  9]\n",
      " [10 11 12]]\n"
     ]
    }
   ],
   "source": [
    "a = np.array([[1,2,3],[4,5,6],[7,8,9]])\n",
    "print(a+3) # 依旧演示,各个位置都加3   其余算数同理"
   ]
  },
  {
   "cell_type": "code",
   "execution_count": 36,
   "id": "484da6c2-108c-4a2c-944e-feecf982d050",
   "metadata": {},
   "outputs": [
    {
     "name": "stdout",
     "output_type": "stream",
     "text": [
      "[[5 6 7]\n",
      " [6 7 8]\n",
      " [7 8 9]]\n"
     ]
    }
   ],
   "source": [
    "# 广播机制: 1 获取形状 2 是否可以广播         例如 1 * 2 和 1*3不行\n",
    "# 同意维度 : 相同\n",
    "a = np.array([1,2,3])  #  1 * 3\n",
    "b = np.array([[4],[5],[6]]) # 3 * 1\n",
    "print(a+b)\n",
    "#      a\n",
    "#    1 2 3\n",
    "#    1 2 3\n",
    "#    1 2 3\n",
    "#      b\n",
    "#    4 4 4\n",
    "#    5 5 5\n",
    "#    6 6 6 "
   ]
  },
  {
   "cell_type": "code",
   "execution_count": 37,
   "id": "ffd1b0b5-55ec-4ba0-9032-0f3522bc4d58",
   "metadata": {},
   "outputs": [
    {
     "name": "stdout",
     "output_type": "stream",
     "text": [
      "[[ 4 10 18]\n",
      " [28 40 54]\n",
      " [ 7 16 27]]\n",
      "[[ 21  27  33]\n",
      " [ 57  72  87]\n",
      " [ 93 117 141]]\n"
     ]
    }
   ],
   "source": [
    "# 矩阵运算\n",
    "a = np.array([[1,2,3],[4,5,6],[7,8,9]])\n",
    "b = np.array([[4,5,6],[7,8,9],[1,2,3]])\n",
    "print(a*b)  # 这是数组的乘\n",
    "print(a @ b) #这是矩阵的乘"
   ]
  },
  {
   "cell_type": "markdown",
   "id": "2247d2d3-0d1f-4b52-acd7-6168bb5dc54e",
   "metadata": {},
   "source": [
    "# 二 numpy中的数学函数"
   ]
  },
  {
   "cell_type": "markdown",
   "id": "a0be358e-8e2c-4722-8bf7-e61f2bea9e52",
   "metadata": {},
   "source": [
    "## 1.基本数学函数"
   ]
  },
  {
   "cell_type": "code",
   "execution_count": 47,
   "id": "0a6ee6e5-83c4-47e3-848a-17753cad68be",
   "metadata": {},
   "outputs": [
    {
     "name": "stdout",
     "output_type": "stream",
     "text": [
      "3.0\n",
      "[1. 2. 3.]\n",
      "[1. 5. 9.]\n"
     ]
    }
   ],
   "source": [
    "# 计算平方根\n",
    "print(np.sqrt(9))\n",
    "print(np.sqrt([1,4,9]))\n",
    "arr = np.array([1,25,81])\n",
    "print(np.sqrt(arr))"
   ]
  },
  {
   "cell_type": "code",
   "execution_count": 52,
   "id": "10d4cd6d-b89b-409c-b10a-1aba3474f01c",
   "metadata": {},
   "outputs": [
    {
     "name": "stdout",
     "output_type": "stream",
     "text": [
      "2.718281828459045\n",
      "1.0\n"
     ]
    }
   ],
   "source": [
    "# 计算指数  默认以e为底  e^x\n",
    "print(np.exp(1))\n",
    "print(np.exp(0))"
   ]
  },
  {
   "cell_type": "code",
   "execution_count": 58,
   "id": "f6f4fb96-85c4-4b58-989c-777485690513",
   "metadata": {},
   "outputs": [
    {
     "name": "stdout",
     "output_type": "stream",
     "text": [
      "0.9969486348916096\n"
     ]
    }
   ],
   "source": [
    "# 计算自然对数   默认e为底 ln x\n",
    "print(np.log(2.71))"
   ]
  },
  {
   "cell_type": "code",
   "execution_count": 66,
   "id": "0a26fbf8-1938-4c70-80a4-b3cbe4ee307e",
   "metadata": {},
   "outputs": [
    {
     "name": "stdout",
     "output_type": "stream",
     "text": [
      "1.0\n",
      "1.0\n"
     ]
    }
   ],
   "source": [
    "# 计算正弦余弦\n",
    "print(np.sin(np.pi/2))\n",
    "print(np.cos(0))"
   ]
  },
  {
   "cell_type": "code",
   "execution_count": 67,
   "id": "c42e7ed6-c636-4e03-be09-d2ab815635e3",
   "metadata": {},
   "outputs": [
    {
     "name": "stdout",
     "output_type": "stream",
     "text": [
      "[1 1 2 3]\n"
     ]
    }
   ],
   "source": [
    "# 计算绝对值\n",
    "arr = np.array([-1,1,2,-3])\n",
    "print(np.abs(arr))"
   ]
  },
  {
   "cell_type": "code",
   "execution_count": 68,
   "id": "08bcbe3c-4a5b-4199-b1b0-ff43b34a81eb",
   "metadata": {},
   "outputs": [
    {
     "name": "stdout",
     "output_type": "stream",
     "text": [
      "[ -1   1   8 -27]\n"
     ]
    }
   ],
   "source": [
    "# 计算a的b次幂\n",
    "print(np.power(arr,3))"
   ]
  },
  {
   "cell_type": "code",
   "execution_count": 70,
   "id": "29aef03b-e114-46eb-8e59-8b79c05302a7",
   "metadata": {},
   "outputs": [
    {
     "name": "stdout",
     "output_type": "stream",
     "text": [
      "[ 3.  4.  9. 10.]\n"
     ]
    }
   ],
   "source": [
    "# 四舍五入\n",
    "print(np.round([3.2,4.5,8.51,9.6]))"
   ]
  },
  {
   "cell_type": "code",
   "execution_count": 73,
   "id": "45245f2d-b0ee-492a-948c-158115591b72",
   "metadata": {},
   "outputs": [
    {
     "name": "stdout",
     "output_type": "stream",
     "text": [
      "[ 4.  5.  9. 10.]\n",
      "[3. 4. 8. 9.]\n"
     ]
    }
   ],
   "source": [
    "# 向上取整和向下取整\n",
    "arr = np.array([3.2,4.5,8.51,9.6])\n",
    "print(np.ceil(arr))\n",
    "print(np.floor(arr))"
   ]
  },
  {
   "cell_type": "code",
   "execution_count": 74,
   "id": "a26ccd21-b2e0-4b9f-a8e6-7120e490deb8",
   "metadata": {},
   "outputs": [
    {
     "data": {
      "text/plain": [
       "array([False, False,  True, False])"
      ]
     },
     "execution_count": 74,
     "metadata": {},
     "output_type": "execute_result"
    }
   ],
   "source": [
    "# 检测缺失值NAN\n",
    "np.isnan([1,2,np.nan,3])"
   ]
  },
  {
   "cell_type": "markdown",
   "id": "3a4e3a8d-a446-4c4d-8a88-606fec6f89cc",
   "metadata": {},
   "source": [
    "# 2.统计函数 \n",
    "  求和，计算平均值，计算中位数，标准差，方差，查找最大值，最小值\n",
    "  计算分为数，累计和，累计差"
   ]
  },
  {
   "cell_type": "code",
   "execution_count": 76,
   "id": "4276b37a-fc6b-4a7b-a691-dceda764963c",
   "metadata": {},
   "outputs": [
    {
     "name": "stdout",
     "output_type": "stream",
     "text": [
      "[19 11 17  7 17  7 19  9]\n"
     ]
    }
   ],
   "source": [
    "arr = np.random.randint(1,20,8)\n",
    "print(arr)"
   ]
  },
  {
   "cell_type": "code",
   "execution_count": 79,
   "id": "f1ca11f3-bd93-49fb-8c7a-75293d1d36cc",
   "metadata": {},
   "outputs": [
    {
     "name": "stdout",
     "output_type": "stream",
     "text": [
      "6\n"
     ]
    }
   ],
   "source": [
    "#求和\n",
    "print(np.sum([1,2,3]))"
   ]
  },
  {
   "cell_type": "code",
   "execution_count": 80,
   "id": "3f5b9d4e-2d65-479c-81bf-97694fd22020",
   "metadata": {},
   "outputs": [
    {
     "name": "stdout",
     "output_type": "stream",
     "text": [
      "13.25\n"
     ]
    }
   ],
   "source": [
    "# 平均值\n",
    "print(np.mean((arr)))"
   ]
  },
  {
   "cell_type": "code",
   "execution_count": 82,
   "id": "bf5d080d-c7a7-4b11-840e-a04006f7da9f",
   "metadata": {},
   "outputs": [
    {
     "name": "stdout",
     "output_type": "stream",
     "text": [
      "2.5\n",
      "2.0\n"
     ]
    }
   ],
   "source": [
    "# 中位数\n",
    "print(np.median([1,2,3,4]))\n",
    "print(np.median([1,2,4]))"
   ]
  },
  {
   "cell_type": "code",
   "execution_count": 85,
   "id": "b6441cc7-ceb4-4267-a988-07d7fe8ee599",
   "metadata": {
    "scrolled": true
   },
   "outputs": [
    {
     "name": "stdout",
     "output_type": "stream",
     "text": [
      "0.6666666666666666\n",
      "0.816496580927726\n"
     ]
    }
   ],
   "source": [
    "# 计算标准差，方差  \n",
    "print(np.var([1,2,3]))\n",
    "print(np.std([1,2,3]))"
   ]
  },
  {
   "cell_type": "code",
   "execution_count": 86,
   "id": "432f2eb2-b37b-4362-ba01-cd3ef76d170c",
   "metadata": {},
   "outputs": [],
   "source": [
    "# 最大值最小值"
   ]
  },
  {
   "cell_type": "code",
   "execution_count": 88,
   "id": "b524bfc2-df4b-4927-a301-5c2c7da68d48",
   "metadata": {},
   "outputs": [
    {
     "name": "stdout",
     "output_type": "stream",
     "text": [
      "[19 11 17  7 17  7 19  9]\n",
      "19 0\n",
      "7 3\n"
     ]
    }
   ],
   "source": [
    "print(arr)\n",
    "print(np.max(arr),np.argmax(arr))\n",
    "print(np.min(arr),np.argmin(arr))"
   ]
  },
  {
   "cell_type": "code",
   "execution_count": 93,
   "id": "3fea9581-0dd3-4e27-afe7-0623762450c0",
   "metadata": {},
   "outputs": [
    {
     "name": "stdout",
     "output_type": "stream",
     "text": [
      "2.0\n",
      "[44 47 64 67]\n",
      "55.5\n",
      "55.5\n"
     ]
    }
   ],
   "source": [
    "# 分为数，中位数  \n",
    "print(np.median([1,2,3]))\n",
    "np.random.seed(0)\n",
    "arr = np.random.randint(0,100,4)\n",
    "print(arr)\n",
    "print(np.median(arr))\n",
    "print(np.percentile(arr,50))  # 就是百分之五十"
   ]
  },
  {
   "cell_type": "code",
   "execution_count": 96,
   "id": "742c66f3-7c07-49c7-b9c6-63fe111e1eae",
   "metadata": {},
   "outputs": [
    {
     "name": "stdout",
     "output_type": "stream",
     "text": [
      "6\n",
      "[1 3 6]\n",
      "[1 2 6]\n"
     ]
    }
   ],
   "source": [
    "# 累计和，累计积\n",
    "arr = np.array([1,2,3])\n",
    "print(np.sum(arr)) # 求和\n",
    "print(np.cumsum(arr)) # 累计和\n",
    "print(np.cumprod(arr)) # 累计积"
   ]
  },
  {
   "cell_type": "code",
   "execution_count": null,
   "id": "d15b78c3-8ef4-4d71-bba3-18e674e72730",
   "metadata": {},
   "outputs": [],
   "source": []
  }
 ],
 "metadata": {
  "kernelspec": {
   "display_name": "Python 3 (ipykernel)",
   "language": "python",
   "name": "python3"
  },
  "language_info": {
   "codemirror_mode": {
    "name": "ipython",
    "version": 3
   },
   "file_extension": ".py",
   "mimetype": "text/x-python",
   "name": "python",
   "nbconvert_exporter": "python",
   "pygments_lexer": "ipython3",
   "version": "3.12.4"
  }
 },
 "nbformat": 4,
 "nbformat_minor": 5
}
